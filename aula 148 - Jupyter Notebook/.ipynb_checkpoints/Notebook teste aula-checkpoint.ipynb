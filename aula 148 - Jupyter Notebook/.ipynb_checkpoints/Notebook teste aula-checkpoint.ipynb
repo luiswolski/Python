{
 "cells": [
  {
   "cell_type": "code",
   "execution_count": 8,
   "metadata": {},
   "outputs": [
    {
     "name": "stdout",
     "output_type": "stream",
     "text": [
      "Hello world!\n"
     ]
    }
   ],
   "source": [
    "# Live code\n",
    "print('Hello world!')"
   ]
  },
  {
   "cell_type": "markdown",
   "metadata": {},
   "source": [
    "# Markdown - Como formatar seu texto\n",
    "Este será um texto onde posso explicar algo.\n",
    "\n",
    "Abaixo você está vendo um código multilinhas.\n",
    "```\n",
    "if True:\n",
    "    print('Hello world!')\n",
    "```\n",
    "Também pode ser interessante usar uma `palavra` como código.\n",
    "\n",
    "Você pode ter textos em *itálico* ou **negrito**.\n",
    "\n",
    "* Linha 1\n",
    "* Linha 2\n",
    "* Linha aninhada\n",
    "    - Outra coisa\n",
    "    - Mais uma linha\n",
    "* Retornando para lista normal\n",
    "\n",
    "Também pode ter listas enumeradas:\n",
    "1. Linha\n",
    "2. Linha\n",
    "    1. Aninhamento\n",
    "    2. Aninhamento\n",
    "    3. Aninhamento\n",
    "3. Linha\n",
    "4. Linha\n",
    "5. Linha\n",
    "\n",
    "Abaixo uma linha horizontal\n",
    "\n",
    "---\n",
    "\n",
    "Bloco de citação:\n",
    "\n",
    "> Um texto gigante no seu notebook.\n",
    ">\n",
    "> Mais uma linha do texto.\n",
    ">\n",
    "\n",
    "## Outro título\n",
    "\n",
    "Aqui você verá o [link do google](https://www.google.com.br)\n",
    "\n",
    "Abaixo uma tabela HTML:\n",
    "\n",
    "| Aqui temos uma tabela | Com mais uma coluna |\n",
    "|-----------------------|---------------------|\n",
    "| Aqui temos uma linha  | Outra coluna        |\n",
    "| Aqui temos uma linha  | Outra coluna        |\n",
    "| Aqui temos uma linha  | Outra coluna        |\n",
    "| Coluna                | Outra               | \n",
    "\n",
    "Por fim, você pode usar HTML puro também, rsrs.\n",
    "\n",
    "<h1>Isso é um título</h1>\n",
    "<p>Aqui vemos um &lt;p&gt;. Você pode usar qualquer tag HTML normal.\n"
   ]
  },
  {
   "cell_type": "markdown",
   "metadata": {},
   "source": [
    "# Abaixo você verá um vídeo do Youtube\n",
    "Poderia também adicionar um texto explicativo aqui."
   ]
  },
  {
   "cell_type": "code",
   "execution_count": 23,
   "metadata": {},
   "outputs": [
    {
     "data": {
      "text/html": [
       "<h1>Vídeo do youtube</h1>\n",
       "<iframe width=\"560\" height=\"315\" src=\"https://www.youtube.com/embed/bVMUGEEgEbg\" frameborder=\"0\"></iframe>\n"
      ],
      "text/plain": [
       "<IPython.core.display.HTML object>"
      ]
     },
     "metadata": {},
     "output_type": "display_data"
    }
   ],
   "source": [
    "%%HTML\n",
    "<h1>Vídeo do youtube</h1>\n",
    "<iframe width=\"560\" height=\"315\" src=\"https://www.youtube.com/embed/bVMUGEEgEbg\" frameborder=\"0\"></iframe>"
   ]
  },
  {
   "cell_type": "markdown",
   "metadata": {},
   "source": [
    "# Criando uma classe Python"
   ]
  },
  {
   "cell_type": "code",
   "execution_count": 10,
   "metadata": {},
   "outputs": [],
   "source": [
    "class Cliente:\n",
    "    def __init__(self, nome, sobrenome):\n",
    "        self.nome = nome\n",
    "        self.sobrenome = sobrenome\n",
    "        \n",
    "    def mostra_detalhes(self):\n",
    "        print(self.nome)\n",
    "        print(self.sobrenome)"
   ]
  },
  {
   "cell_type": "code",
   "execution_count": 11,
   "metadata": {},
   "outputs": [
    {
     "name": "stdout",
     "output_type": "stream",
     "text": [
      "Luiz Otávio\n",
      "Miranda\n"
     ]
    }
   ],
   "source": [
    "cliente = Cliente('Luiz Otávio', 'Miranda')\n",
    "cliente.mostra_detalhes()"
   ]
  },
  {
   "cell_type": "code",
   "execution_count": 12,
   "metadata": {},
   "outputs": [],
   "source": [
    "import main"
   ]
  },
  {
   "cell_type": "markdown",
   "metadata": {},
   "source": [
    "# Comandos do sistema"
   ]
  },
  {
   "cell_type": "code",
   "execution_count": 14,
   "metadata": {},
   "outputs": [
    {
     "name": "stdout",
     "output_type": "stream",
     "text": [
      "total 21K\r\n",
      "drwxrwxrwx 1 luizotavio luizotavio 4,0K jul  6 22:23  .\r\n",
      "drwxrwxrwx 1 luizotavio luizotavio 4,0K jul  4 05:32  ..\r\n",
      "drwxrwxrwx 1 luizotavio luizotavio 4,0K jul  6 22:24  .idea\r\n",
      "drwxrwxrwx 1 luizotavio luizotavio  200 jul  6 22:05  .ipynb_checkpoints\r\n",
      "-rwxrwxrwx 1 luizotavio luizotavio  280 jul  6 22:18  main.py\r\n",
      "-rwxrwxrwx 1 luizotavio luizotavio 4,4K jul  6 22:23 'Nome do notebook.ipynb'\r\n",
      "-rwxrwxrwx 1 luizotavio luizotavio  138 jun  2 21:29  Pipfile\r\n",
      "drwxrwxrwx 1 luizotavio luizotavio  168 jul  6 22:18  __pycache__\r\n",
      "-rwxrwxrwx 1 luizotavio luizotavio    0 jul  3 01:33  Requirements.txt\r\n"
     ]
    }
   ],
   "source": [
    "!ls -lah"
   ]
  },
  {
   "cell_type": "code",
   "execution_count": 15,
   "metadata": {},
   "outputs": [
    {
     "name": "stdout",
     "output_type": "stream",
     "text": [
      "512\t./.idea/inspectionProfiles\r\n",
      "26K\t./.idea\r\n",
      "4,0K\t./.ipynb_checkpoints\r\n",
      "512\t./__pycache__\r\n",
      "44K\t.\r\n"
     ]
    }
   ],
   "source": [
    "!du -h ."
   ]
  },
  {
   "cell_type": "markdown",
   "metadata": {},
   "source": [
    "# Gráficos"
   ]
  },
  {
   "cell_type": "code",
   "execution_count": 20,
   "metadata": {},
   "outputs": [
    {
     "data": {
      "image/png": "[encoded data removed]",
      "text/plain": [
       "<Figure size 432x288 with 1 Axes>"
      ]
     },
     "metadata": {
      "needs_background": "light"
     },
     "output_type": "display_data"
    }
   ],
   "source": [
    "import matplotlib.path as mpath\n",
    "import matplotlib.patches as mpatches\n",
    "import matplotlib.pyplot as plt\n",
    "\n",
    "\n",
    "fig, ax = plt.subplots()\n",
    "\n",
    "Path = mpath.Path\n",
    "path_data = [\n",
    "    (Path.MOVETO, (1.58, -2.57)),\n",
    "    (Path.CURVE4, (0.35, -1.1)),\n",
    "    (Path.CURVE4, (-1.75, 2.0)),\n",
    "    (Path.CURVE4, (0.375, 2.0)),\n",
    "    (Path.LINETO, (0.85, 1.15)),\n",
    "    (Path.CURVE4, (2.2, 3.2)),\n",
    "    (Path.CURVE4, (3, 0.05)),\n",
    "    (Path.CURVE4, (2.0, -0.5)),\n",
    "    (Path.CLOSEPOLY, (1.58, -2.57)),\n",
    "    ]\n",
    "codes, verts = zip(*path_data)\n",
    "path = mpath.Path(verts, codes)\n",
    "patch = mpatches.PathPatch(path, facecolor='r', alpha=0.5)\n",
    "ax.add_patch(patch)\n",
    "\n",
    "# plot control points and connecting lines\n",
    "x, y = zip(*path.vertices)\n",
    "line, = ax.plot(x, y, 'go-')\n",
    "\n",
    "ax.grid()\n",
    "ax.axis('equal')\n",
    "plt.show()"
   ]
  },
  {
   "cell_type": "code",
   "execution_count": 25,
   "metadata": {},
   "outputs": [
    {
     "name": "stdout",
     "output_type": "stream",
     "text": [
      "5.73 ms ± 279 µs per loop (mean ± std. dev. of 7 runs, 100 loops each)\n"
     ]
    }
   ],
   "source": [
    "%%timeit\n",
    "lista = [x * 2 for x in range(100000)]"
   ]
  },
  {
   "cell_type": "markdown",
   "metadata": {},
   "source": [
    "# Exibindo Pandas Dataframe"
   ]
  },
  {
   "cell_type": "code",
   "execution_count": 27,
   "metadata": {},
   "outputs": [
    {
     "data": {
      "text/html": [
       "<div>\n",
       "<style scoped>\n",
       "    .dataframe tbody tr th:only-of-type {\n",
       "        vertical-align: middle;\n",
       "    }\n",
       "\n",
       "    .dataframe tbody tr th {\n",
       "        vertical-align: top;\n",
       "    }\n",
       "\n",
       "    .dataframe thead th {\n",
       "        text-align: right;\n",
       "    }\n",
       "</style>\n",
       "<table border=\"1\" class=\"dataframe\">\n",
       "  <thead>\n",
       "    <tr style=\"text-align: right;\">\n",
       "      <th></th>\n",
       "      <th>0</th>\n",
       "      <th>1</th>\n",
       "      <th>2</th>\n",
       "      <th>3</th>\n",
       "      <th>4</th>\n",
       "    </tr>\n",
       "  </thead>\n",
       "  <tbody>\n",
       "    <tr>\n",
       "      <th>0</th>\n",
       "      <td>-0.215971</td>\n",
       "      <td>1.448919</td>\n",
       "      <td>-0.711476</td>\n",
       "      <td>-0.233486</td>\n",
       "      <td>-0.517674</td>\n",
       "    </tr>\n",
       "    <tr>\n",
       "      <th>1</th>\n",
       "      <td>-0.736496</td>\n",
       "      <td>1.311586</td>\n",
       "      <td>1.342930</td>\n",
       "      <td>-1.128700</td>\n",
       "      <td>0.613368</td>\n",
       "    </tr>\n",
       "    <tr>\n",
       "      <th>2</th>\n",
       "      <td>-2.286732</td>\n",
       "      <td>1.250883</td>\n",
       "      <td>0.571770</td>\n",
       "      <td>-0.641795</td>\n",
       "      <td>-0.755133</td>\n",
       "    </tr>\n",
       "    <tr>\n",
       "      <th>3</th>\n",
       "      <td>-0.001408</td>\n",
       "      <td>-1.529295</td>\n",
       "      <td>-0.820176</td>\n",
       "      <td>-1.191365</td>\n",
       "      <td>0.476979</td>\n",
       "    </tr>\n",
       "    <tr>\n",
       "      <th>4</th>\n",
       "      <td>-0.243336</td>\n",
       "      <td>0.870465</td>\n",
       "      <td>-0.357530</td>\n",
       "      <td>-0.251777</td>\n",
       "      <td>-1.251200</td>\n",
       "    </tr>\n",
       "    <tr>\n",
       "      <th>5</th>\n",
       "      <td>-1.042010</td>\n",
       "      <td>0.028356</td>\n",
       "      <td>-0.318070</td>\n",
       "      <td>-0.534843</td>\n",
       "      <td>1.724604</td>\n",
       "    </tr>\n",
       "    <tr>\n",
       "      <th>6</th>\n",
       "      <td>0.522232</td>\n",
       "      <td>0.507037</td>\n",
       "      <td>2.115236</td>\n",
       "      <td>-1.179220</td>\n",
       "      <td>-0.440356</td>\n",
       "    </tr>\n",
       "    <tr>\n",
       "      <th>7</th>\n",
       "      <td>-0.889787</td>\n",
       "      <td>0.265570</td>\n",
       "      <td>0.682670</td>\n",
       "      <td>0.908519</td>\n",
       "      <td>-0.025810</td>\n",
       "    </tr>\n",
       "    <tr>\n",
       "      <th>8</th>\n",
       "      <td>-1.104133</td>\n",
       "      <td>0.236166</td>\n",
       "      <td>-2.190653</td>\n",
       "      <td>-0.417459</td>\n",
       "      <td>-0.209427</td>\n",
       "    </tr>\n",
       "    <tr>\n",
       "      <th>9</th>\n",
       "      <td>-0.184836</td>\n",
       "      <td>-0.876813</td>\n",
       "      <td>-0.001003</td>\n",
       "      <td>0.777862</td>\n",
       "      <td>-1.191039</td>\n",
       "    </tr>\n",
       "    <tr>\n",
       "      <th>10</th>\n",
       "      <td>0.520147</td>\n",
       "      <td>-1.018062</td>\n",
       "      <td>0.440347</td>\n",
       "      <td>2.520316</td>\n",
       "      <td>0.421731</td>\n",
       "    </tr>\n",
       "    <tr>\n",
       "      <th>11</th>\n",
       "      <td>0.885519</td>\n",
       "      <td>-0.837115</td>\n",
       "      <td>0.906660</td>\n",
       "      <td>0.195820</td>\n",
       "      <td>-0.551912</td>\n",
       "    </tr>\n",
       "    <tr>\n",
       "      <th>12</th>\n",
       "      <td>0.421992</td>\n",
       "      <td>1.913132</td>\n",
       "      <td>-0.202764</td>\n",
       "      <td>-0.895330</td>\n",
       "      <td>0.236187</td>\n",
       "    </tr>\n",
       "    <tr>\n",
       "      <th>13</th>\n",
       "      <td>0.846254</td>\n",
       "      <td>0.407641</td>\n",
       "      <td>1.310392</td>\n",
       "      <td>0.931432</td>\n",
       "      <td>1.367434</td>\n",
       "    </tr>\n",
       "    <tr>\n",
       "      <th>14</th>\n",
       "      <td>-0.039815</td>\n",
       "      <td>-0.236973</td>\n",
       "      <td>-0.353871</td>\n",
       "      <td>0.262151</td>\n",
       "      <td>-0.924806</td>\n",
       "    </tr>\n",
       "    <tr>\n",
       "      <th>15</th>\n",
       "      <td>0.295435</td>\n",
       "      <td>-0.129505</td>\n",
       "      <td>-0.512774</td>\n",
       "      <td>-0.198485</td>\n",
       "      <td>0.071003</td>\n",
       "    </tr>\n",
       "    <tr>\n",
       "      <th>16</th>\n",
       "      <td>1.080596</td>\n",
       "      <td>1.423199</td>\n",
       "      <td>-0.729416</td>\n",
       "      <td>2.391266</td>\n",
       "      <td>-1.200941</td>\n",
       "    </tr>\n",
       "    <tr>\n",
       "      <th>17</th>\n",
       "      <td>1.757364</td>\n",
       "      <td>-0.280153</td>\n",
       "      <td>-0.684796</td>\n",
       "      <td>-1.129941</td>\n",
       "      <td>0.055709</td>\n",
       "    </tr>\n",
       "  </tbody>\n",
       "</table>\n",
       "</div>"
      ],
      "text/plain": [
       "           0         1         2         3         4\n",
       "0  -0.215971  1.448919 -0.711476 -0.233486 -0.517674\n",
       "1  -0.736496  1.311586  1.342930 -1.128700  0.613368\n",
       "2  -2.286732  1.250883  0.571770 -0.641795 -0.755133\n",
       "3  -0.001408 -1.529295 -0.820176 -1.191365  0.476979\n",
       "4  -0.243336  0.870465 -0.357530 -0.251777 -1.251200\n",
       "5  -1.042010  0.028356 -0.318070 -0.534843  1.724604\n",
       "6   0.522232  0.507037  2.115236 -1.179220 -0.440356\n",
       "7  -0.889787  0.265570  0.682670  0.908519 -0.025810\n",
       "8  -1.104133  0.236166 -2.190653 -0.417459 -0.209427\n",
       "9  -0.184836 -0.876813 -0.001003  0.777862 -1.191039\n",
       "10  0.520147 -1.018062  0.440347  2.520316  0.421731\n",
       "11  0.885519 -0.837115  0.906660  0.195820 -0.551912\n",
       "12  0.421992  1.913132 -0.202764 -0.895330  0.236187\n",
       "13  0.846254  0.407641  1.310392  0.931432  1.367434\n",
       "14 -0.039815 -0.236973 -0.353871  0.262151 -0.924806\n",
       "15  0.295435 -0.129505 -0.512774 -0.198485  0.071003\n",
       "16  1.080596  1.423199 -0.729416  2.391266 -1.200941\n",
       "17  1.757364 -0.280153 -0.684796 -1.129941  0.055709"
      ]
     },
     "execution_count": 27,
     "metadata": {},
     "output_type": "execute_result"
    }
   ],
   "source": [
    "import pandas as pd\n",
    "import numpy as np\n",
    "\n",
    "df = pd.DataFrame(np.random.randn(18,5))\n",
    "df"
   ]
  }
 ],
 "metadata": {
  "kernelspec": {
   "display_name": "Python 3",
   "language": "python",
   "name": "python3"
  },
  "language_info": {
   "codemirror_mode": {
    "name": "ipython",
    "version": 3
   },
   "file_extension": ".py",
   "mimetype": "text/x-python",
   "name": "python",
   "nbconvert_exporter": "python",
   "pygments_lexer": "ipython3",
   "version": "3.7.1"
  }
 },
 "nbformat": 4,
 "nbformat_minor": 2
}
