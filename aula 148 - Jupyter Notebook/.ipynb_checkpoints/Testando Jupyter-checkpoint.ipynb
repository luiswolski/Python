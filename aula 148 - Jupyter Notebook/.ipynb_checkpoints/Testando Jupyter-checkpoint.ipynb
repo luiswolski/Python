{
 "cells": [
  {
   "cell_type": "markdown",
   "id": "85ce4387",
   "metadata": {},
   "source": [
    "# Titulo\n",
    "Este e meu texto\n",
    "## Agora vem o subtitulo\n",
    "Mais um textinho\n",
    "\n",
    "* Lista um\n",
    "* Lista dois\n",
    "* Lista três"
   ]
  },
  {
   "cell_type": "code",
   "execution_count": 2,
   "id": "c2d6ac6a",
   "metadata": {},
   "outputs": [
    {
     "data": {
      "text/html": [
       "<p>Um <strong>teste</strong> em html</p>\n"
      ],
      "text/plain": [
       "<IPython.core.display.HTML object>"
      ]
     },
     "metadata": {},
     "output_type": "display_data"
    }
   ],
   "source": [
    "%%HTML\n",
    "<p>Um <strong>teste</strong> em html</p>"
   ]
  },
  {
   "cell_type": "code",
   "execution_count": null,
   "id": "d89b23ca",
   "metadata": {},
   "outputs": [],
   "source": []
  }
 ],
 "metadata": {
  "kernelspec": {
   "display_name": "Python 3 (ipykernel)",
   "language": "python",
   "name": "python3"
  },
  "language_info": {
   "codemirror_mode": {
    "name": "ipython",
    "version": 3
   },
   "file_extension": ".py",
   "mimetype": "text/x-python",
   "name": "python",
   "nbconvert_exporter": "python",
   "pygments_lexer": "ipython3",
   "version": "3.10.4"
  }
 },
 "nbformat": 4,
 "nbformat_minor": 5
}
